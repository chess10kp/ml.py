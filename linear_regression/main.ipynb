{
 "cells": [
  {
   "cell_type": "code",
   "execution_count": 24,
   "id": "83265d2b",
   "metadata": {},
   "outputs": [],
   "source": [
    "import torch\n",
    "import random\n",
    "import numpy as np"
   ]
  },
  {
   "cell_type": "code",
   "execution_count": 50,
   "id": "46e82751",
   "metadata": {},
   "outputs": [
    {
     "data": {
      "text/plain": [
       "(torch.Size([100, 1]), torch.Size([1]), torch.Size([100, 4]))"
      ]
     },
     "execution_count": 50,
     "metadata": {},
     "output_type": "execute_result"
    }
   ],
   "source": [
    "random.seed(10)\n",
    "features = 4\n",
    "\n",
    "X = np.random.rand(100, features)\n",
    "X = torch.from_numpy(X)\n",
    "\n",
    "W_real = torch.randn(features, 1, dtype=torch.float64)\n",
    "B_real = torch.ones(1) * random.randrange(10)\n",
    "\n",
    "Y = torch.matmul( X, W_real) + B_real\n",
    "Y.shape, B_real.shape, X.shape"
   ]
  },
  {
   "cell_type": "code",
   "execution_count": null,
   "id": "217788cb",
   "metadata": {},
   "outputs": [],
   "source": [
    "def forward(w, x, b):\n",
    "    return torch.matmul(x, w) + b\n",
    "\n",
    "def loss(prediction, labels):\n",
    "    return np.mean((prediction - labels) ** 2)\n",
    "\n",
    "weights = torch.randn(features, 1, requires_grad=True)\n",
    "bias = torch.randn(1, requires_grad=True)\n",
    "\n",
    "with torch.no_grad():\n",
    "    for _ in range(100):\n",
    "        pred = forward(weights, bias)"
   ]
  }
 ],
 "metadata": {
  "kernelspec": {
   "display_name": "ml-py",
   "language": "python",
   "name": "python3"
  },
  "language_info": {
   "codemirror_mode": {
    "name": "ipython",
    "version": 3
   },
   "file_extension": ".py",
   "mimetype": "text/x-python",
   "name": "python",
   "nbconvert_exporter": "python",
   "pygments_lexer": "ipython3",
   "version": "3.11.13"
  }
 },
 "nbformat": 4,
 "nbformat_minor": 5
}
