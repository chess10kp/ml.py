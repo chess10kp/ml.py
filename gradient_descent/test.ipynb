{
 "cells": [
  {
   "cell_type": "code",
   "execution_count": 5,
   "id": "47d3be42",
   "metadata": {},
   "outputs": [],
   "source": [
    "import torch\n",
    "import numpy as np"
   ]
  },
  {
   "cell_type": "code",
   "execution_count": 6,
   "id": "a948b8fb",
   "metadata": {},
   "outputs": [],
   "source": [
    "X = torch.arange(-5, 5, 0.1).view(-1, 1) # col vec of tensor\n",
    "\n",
    "func = - 5 * X\n",
    "Y = func + 0.4 * torch.randn(X.size())"
   ]
  },
  {
   "cell_type": "code",
   "execution_count": 9,
   "id": "c582ed97",
   "metadata": {},
   "outputs": [
    {
     "data": {
      "text/plain": [
       "tensor(0.0065, grad_fn=<MeanBackward0>)"
      ]
     },
     "execution_count": 9,
     "metadata": {},
     "output_type": "execute_result"
    }
   ],
   "source": [
    "# gradient descent \n",
    "weights = torch.rand_like(X, requires_grad=True)\n",
    "biases = torch.rand_like(X, requires_grad=True)\n",
    "\n",
    "def forward(w, b) -> int:\n",
    "    return w * X + b\n",
    "\n",
    "def cost(w, b):\n",
    "    pred = forward(w, b)\n",
    "    return torch.mean((Y - pred) ** 2)\n",
    "\n",
    "for i in range(1000): \n",
    "    loss = cost(weights, biases) \n",
    "    loss.backward()\n",
    "    weights.data = weights.data - weights.grad.data * 0.1\n",
    "    biases.data = biases.data - biases.grad.data * 0.1\n",
    "    weights.grad.zero_()\n",
    "    biases.grad.zero_()\n",
    "\n",
    "cost(weights, biases)"
   ]
  },
  {
   "cell_type": "code",
   "execution_count": null,
   "id": "d42b0af5",
   "metadata": {},
   "outputs": [],
   "source": []
  }
 ],
 "metadata": {
  "kernelspec": {
   "display_name": "ml-py",
   "language": "python",
   "name": "python3"
  },
  "language_info": {
   "codemirror_mode": {
    "name": "ipython",
    "version": 3
   },
   "file_extension": ".py",
   "mimetype": "text/x-python",
   "name": "python",
   "nbconvert_exporter": "python",
   "pygments_lexer": "ipython3",
   "version": "3.11.13"
  }
 },
 "nbformat": 4,
 "nbformat_minor": 5
}
